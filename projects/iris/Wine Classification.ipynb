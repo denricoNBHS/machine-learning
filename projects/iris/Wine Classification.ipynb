{
 "cells": [
  {
   "cell_type": "markdown",
   "metadata": {
    "deletable": true,
    "editable": true
   },
   "source": [
    "# Wine Classification"
   ]
  },
  {
   "cell_type": "markdown",
   "metadata": {
    "deletable": true,
    "editable": true
   },
   "source": [
    "In this project you'll be analyzing another set of data from the [UC Irvine Machine Learning Repository](https://archive.ics.uci.edu/ml/). \n",
    "\n",
    "Your goal is to classify wines grown in the same region of Italy, but from different cultivars (cultivated varities) of grape. The data consists of a class (1, 2, or 3) followed by 13 features as described in the [wine.names](data/wine.names) file. \n",
    "\n",
    "Follow the directions in each cell to complete the project."
   ]
  },
  {
   "cell_type": "code",
   "execution_count": null,
   "metadata": {
    "collapsed": true,
    "deletable": true,
    "editable": true
   },
   "outputs": [],
   "source": [
    "# ======================================|\n",
    "#  DO NOT CHANGE ANYTHING IN THIS CELL! |\n",
    "# ======================================|\n",
    "\n",
    "%matplotlib inline\n",
    "\n",
    "import matplotlib.pyplot as plt\n",
    "import numpy as np\n",
    "import tensorflow as tf\n",
    "import pandas as pd"
   ]
  },
  {
   "cell_type": "code",
   "execution_count": null,
   "metadata": {
    "collapsed": false,
    "deletable": true,
    "editable": true
   },
   "outputs": [],
   "source": [
    "# Load the training data from 'data/wine_train.csv' into\n",
    "# a pandas dataframe.\n",
    "wine=pd.read_csv('data/wine_train.csv')\n",
    "\n",
    "wine_train = pd.get_dummies(pd.read_csv('data/wine_train.csv' ,dtype={'Class':'category'}))\n",
    "wine_test = pd.get_dummies(pd.read_csv('data/wine_test.csv',dtype={'Class':'category'}))"
   ]
  },
  {
   "cell_type": "code",
   "execution_count": 33,
   "metadata": {
    "collapsed": false,
    "deletable": true,
    "editable": true
   },
   "outputs": [
    {
     "data": {
      "text/html": [
       "<div>\n",
       "<table border=\"1\" class=\"dataframe\">\n",
       "  <thead>\n",
       "    <tr style=\"text-align: right;\">\n",
       "      <th></th>\n",
       "      <th>Class</th>\n",
       "      <th>Alcohol</th>\n",
       "      <th>Malic Acid</th>\n",
       "      <th>Ash</th>\n",
       "      <th>Alkalinity of Ash</th>\n",
       "      <th>Magnesium</th>\n",
       "      <th>Total Phenols</th>\n",
       "      <th>Flavanoids</th>\n",
       "      <th>Nonflavanoid Phenols</th>\n",
       "      <th>Proanthocyanins</th>\n",
       "      <th>Color Intensity</th>\n",
       "      <th>Hue</th>\n",
       "      <th>OD280/OD315 of Diluted Wine</th>\n",
       "      <th>Proline</th>\n",
       "    </tr>\n",
       "  </thead>\n",
       "  <tbody>\n",
       "    <tr>\n",
       "      <th>0</th>\n",
       "      <td>1</td>\n",
       "      <td>13.20</td>\n",
       "      <td>1.78</td>\n",
       "      <td>2.14</td>\n",
       "      <td>11.2</td>\n",
       "      <td>100</td>\n",
       "      <td>2.65</td>\n",
       "      <td>2.76</td>\n",
       "      <td>0.26</td>\n",
       "      <td>1.28</td>\n",
       "      <td>4.38</td>\n",
       "      <td>1.05</td>\n",
       "      <td>3.40</td>\n",
       "      <td>1050</td>\n",
       "    </tr>\n",
       "    <tr>\n",
       "      <th>1</th>\n",
       "      <td>1</td>\n",
       "      <td>13.16</td>\n",
       "      <td>2.36</td>\n",
       "      <td>2.67</td>\n",
       "      <td>18.6</td>\n",
       "      <td>101</td>\n",
       "      <td>2.80</td>\n",
       "      <td>3.24</td>\n",
       "      <td>0.30</td>\n",
       "      <td>2.81</td>\n",
       "      <td>5.68</td>\n",
       "      <td>1.03</td>\n",
       "      <td>3.17</td>\n",
       "      <td>1185</td>\n",
       "    </tr>\n",
       "    <tr>\n",
       "      <th>2</th>\n",
       "      <td>1</td>\n",
       "      <td>14.37</td>\n",
       "      <td>1.95</td>\n",
       "      <td>2.50</td>\n",
       "      <td>16.8</td>\n",
       "      <td>113</td>\n",
       "      <td>3.85</td>\n",
       "      <td>3.49</td>\n",
       "      <td>0.24</td>\n",
       "      <td>2.18</td>\n",
       "      <td>7.80</td>\n",
       "      <td>0.86</td>\n",
       "      <td>3.45</td>\n",
       "      <td>1480</td>\n",
       "    </tr>\n",
       "    <tr>\n",
       "      <th>3</th>\n",
       "      <td>1</td>\n",
       "      <td>13.24</td>\n",
       "      <td>2.59</td>\n",
       "      <td>2.87</td>\n",
       "      <td>21.0</td>\n",
       "      <td>118</td>\n",
       "      <td>2.80</td>\n",
       "      <td>2.69</td>\n",
       "      <td>0.39</td>\n",
       "      <td>1.82</td>\n",
       "      <td>4.32</td>\n",
       "      <td>1.04</td>\n",
       "      <td>2.93</td>\n",
       "      <td>735</td>\n",
       "    </tr>\n",
       "    <tr>\n",
       "      <th>4</th>\n",
       "      <td>1</td>\n",
       "      <td>14.20</td>\n",
       "      <td>1.76</td>\n",
       "      <td>2.45</td>\n",
       "      <td>15.2</td>\n",
       "      <td>112</td>\n",
       "      <td>3.27</td>\n",
       "      <td>3.39</td>\n",
       "      <td>0.34</td>\n",
       "      <td>1.97</td>\n",
       "      <td>6.75</td>\n",
       "      <td>1.05</td>\n",
       "      <td>2.85</td>\n",
       "      <td>1450</td>\n",
       "    </tr>\n",
       "  </tbody>\n",
       "</table>\n",
       "</div>"
      ],
      "text/plain": [
       "   Class  Alcohol  Malic Acid   Ash  Alkalinity of Ash  Magnesium  \\\n",
       "0      1    13.20        1.78  2.14               11.2        100   \n",
       "1      1    13.16        2.36  2.67               18.6        101   \n",
       "2      1    14.37        1.95  2.50               16.8        113   \n",
       "3      1    13.24        2.59  2.87               21.0        118   \n",
       "4      1    14.20        1.76  2.45               15.2        112   \n",
       "\n",
       "   Total Phenols  Flavanoids  Nonflavanoid Phenols  Proanthocyanins  \\\n",
       "0           2.65        2.76                  0.26             1.28   \n",
       "1           2.80        3.24                  0.30             2.81   \n",
       "2           3.85        3.49                  0.24             2.18   \n",
       "3           2.80        2.69                  0.39             1.82   \n",
       "4           3.27        3.39                  0.34             1.97   \n",
       "\n",
       "   Color Intensity   Hue  OD280/OD315 of Diluted Wine  Proline  \n",
       "0             4.38  1.05                         3.40     1050  \n",
       "1             5.68  1.03                         3.17     1185  \n",
       "2             7.80  0.86                         3.45     1480  \n",
       "3             4.32  1.04                         2.93      735  \n",
       "4             6.75  1.05                         2.85     1450  "
      ]
     },
     "execution_count": 33,
     "metadata": {},
     "output_type": "execute_result"
    }
   ],
   "source": [
    "# Display the first few rows from the dataframe\n",
    "# to ensure proper loading\n",
    "wine.head()"
   ]
  },
  {
   "cell_type": "code",
   "execution_count": 34,
   "metadata": {
    "collapsed": false,
    "deletable": true,
    "editable": true
   },
   "outputs": [
    {
     "data": {
      "text/plain": [
       "Class                          148\n",
       "Alcohol                        148\n",
       "Malic Acid                     148\n",
       "Ash                            148\n",
       "Alkalinity of Ash              148\n",
       "Magnesium                      148\n",
       "Total Phenols                  148\n",
       "Flavanoids                     148\n",
       "Nonflavanoid Phenols           148\n",
       "Proanthocyanins                148\n",
       "Color Intensity                148\n",
       "Hue                            148\n",
       "OD280/OD315 of Diluted Wine    148\n",
       "Proline                        148\n",
       "dtype: int64"
      ]
     },
     "execution_count": 34,
     "metadata": {},
     "output_type": "execute_result"
    }
   ],
   "source": [
    "# Use the dataframe.count method to ensure\n",
    "# all 148 records were loaded\n",
    "wine.count()"
   ]
  },
  {
   "cell_type": "code",
   "execution_count": 57,
   "metadata": {
    "collapsed": false,
    "deletable": true,
    "editable": true
   },
   "outputs": [],
   "source": [
    "# Declare placeholders and variables for your TensorFlow model here (if applicable)\n",
    "learn_rate = .0005\n",
    "batch_size = 13\n",
    "epochs = 50\n",
    "\n",
    "wine_train = pd.read_csv('data/wine_train.csv', dtype={'Class': 'category'})\n",
    "wine_test = pd.read_csv('data/wine_test.csv', dtype={'Class': 'category'})\n",
    "test_features = wine_test.as_matrix()[:,:13]\n",
    "test_targets = pd.get_dummies(wine_test.Class).as_matrix()\n",
    "\n",
    "x = tf.placeholder(tf.float32, [None, 13])\n",
    "\n",
    "y_ = tf.placeholder(tf.float32, [None, 3])\n",
    "\n",
    "W = tf.Variable(tf.truncated_normal([13, 3], stddev=0.1))\n",
    "\n",
    "b = tf.Variable(tf.zeros([3]))  \n",
    "\n",
    "y = tf.nn.softmax(tf.matmul(x, W) + b)\n",
    "\n",
    "cost = tf.reduce_mean(tf.squared_difference(y_, y))\n",
    "\n",
    "train_step = tf.train.GradientDescentOptimizer(learn_rate).minimize(cost)\n",
    "\n",
    "\n"
   ]
  },
  {
   "cell_type": "code",
   "execution_count": 58,
   "metadata": {
    "collapsed": true,
    "deletable": true,
    "editable": true
   },
   "outputs": [],
   "source": [
    "# Define your TensorFlow or scikit-learn model here\n",
    "y = tf.nn.softmax(tf.matmul(x, W) + b)"
   ]
  },
  {
   "cell_type": "code",
   "execution_count": 59,
   "metadata": {
    "collapsed": false,
    "deletable": true,
    "editable": true
   },
   "outputs": [
    {
     "name": "stdout",
     "output_type": "stream",
     "text": [
      "Epoch 0001 cost: 0.2281\n",
      "Epoch 0002 cost: 0.2168\n",
      "Epoch 0003 cost: 0.2179\n",
      "Epoch 0004 cost: 0.2322\n",
      "Epoch 0005 cost: 0.2187\n",
      "Epoch 0006 cost: 0.2356\n",
      "Epoch 0007 cost: 0.2349\n",
      "Epoch 0008 cost: 0.2295\n",
      "Epoch 0009 cost: 0.2147\n",
      "Epoch 0010 cost: 0.2217\n",
      "Epoch 0011 cost: 0.2150\n",
      "Epoch 0012 cost: 0.2061\n",
      "Epoch 0013 cost: 0.2300\n",
      "Epoch 0014 cost: 0.2093\n",
      "Epoch 0015 cost: 0.2113\n",
      "Epoch 0016 cost: 0.2487\n",
      "Epoch 0017 cost: 0.2417\n",
      "Epoch 0018 cost: 0.2278\n",
      "Epoch 0019 cost: 0.2307\n",
      "Epoch 0020 cost: 0.2019\n",
      "Epoch 0021 cost: 0.2287\n",
      "Epoch 0022 cost: 0.1888\n",
      "Epoch 0023 cost: 0.2272\n",
      "Epoch 0024 cost: 0.1979\n",
      "Epoch 0025 cost: 0.1732\n",
      "Epoch 0026 cost: 0.2087\n",
      "Epoch 0027 cost: 0.2187\n",
      "Epoch 0028 cost: 0.2237\n",
      "Epoch 0029 cost: 0.2290\n",
      "Epoch 0030 cost: 0.1971\n",
      "Epoch 0031 cost: 0.2073\n",
      "Epoch 0032 cost: 0.2031\n",
      "Epoch 0033 cost: 0.2028\n",
      "Epoch 0034 cost: 0.2105\n",
      "Epoch 0035 cost: 0.2235\n",
      "Epoch 0036 cost: 0.2041\n",
      "Epoch 0037 cost: 0.2305\n",
      "Epoch 0038 cost: 0.2438\n",
      "Epoch 0039 cost: 0.2190\n",
      "Epoch 0040 cost: 0.2020\n",
      "Epoch 0041 cost: 0.2029\n",
      "Epoch 0042 cost: 0.2213\n",
      "Epoch 0043 cost: 0.2409\n",
      "Epoch 0044 cost: 0.2157\n",
      "Epoch 0045 cost: 0.2301\n",
      "Epoch 0046 cost: 0.2311\n",
      "Epoch 0047 cost: 0.2340\n",
      "Epoch 0048 cost: 0.2211\n",
      "Epoch 0049 cost: 0.2036\n",
      "Epoch 0050 cost: 0.1944\n",
      "\n",
      "The model correctly identified 60.00% of the test data.\n"
     ]
    }
   ],
   "source": [
    "# Train the model in this cell\n",
    "with tf.Session() as sess:\n",
    "\n",
    "    # Initialize all of the Variables\n",
    "    sess.run(tf.global_variables_initializer())\n",
    "    \n",
    "    # Operation for saving all variables\n",
    "    saver = tf.train.Saver()\n",
    "    \n",
    "    # Training loop\n",
    "    for epoch in range(epochs):\n",
    "        avg_cost = 0.\n",
    "        num_batches = int(wine_train.shape[0]/batch_size)\n",
    "        \n",
    "        for _ in range(num_batches):\n",
    "            # Randomly select <batch_size> samples from the set (with replacement)\n",
    "            batch = wine_train.sample(n=batch_size)\n",
    "\n",
    "            # Capture the x and y_ data\n",
    "            batch_features = batch.as_matrix()[:,:13]\n",
    "\n",
    "            # get_dummies turns our categorical data into one-hot vectors\n",
    "            batch_targets = pd.get_dummies(batch.Class).as_matrix()\n",
    "\n",
    "            # Run the training step using batch_features and batch_targets\n",
    "            # as x and y_, respectively and capture the cost at each step\n",
    "            _, c = sess.run([train_step, cost], feed_dict={x:batch_features, y_:batch_targets})\n",
    "\n",
    "            # Calculate the average cost for the epoch\n",
    "            avg_cost += c/num_batches\n",
    "\n",
    "        # Print epoch results\n",
    "        print(\"Epoch %04d cost: %s\" % (epoch + 1, \"{:.4f}\".format(avg_cost)))\n",
    "    \n",
    "    # If our model's most likely classification is equal to the one-hot index\n",
    "    # add True to our correct_prediction tensor\n",
    "    correct_prediction = tf.equal(tf.argmax(y,1), tf.argmax(y_,1))\n",
    "\n",
    "    # Cast the boolean variables as floats and take the mean.\n",
    "    accuracy = tf.reduce_mean(tf.cast(correct_prediction, tf.float32))\n",
    "\n",
    "    # Calculate the percentage of correct answers using the test data\n",
    "    score = sess.run(accuracy, feed_dict={x: test_features, y_: test_targets}) * 100\n",
    "    print(\"\\nThe model correctly identified %s of the test data.\" % \"{:.2f}%\".format(score))\n",
    "    \n",
    "    \n",
    "    "
   ]
  },
  {
   "cell_type": "code",
   "execution_count": 61,
   "metadata": {
    "collapsed": false,
    "deletable": true,
    "editable": true
   },
   "outputs": [],
   "source": [
    "# Run the trained model on 'data/wine_test.csv' here.\n",
    "# Be sure to print out the accuracy!\n",
    "session.run(correct_prediction, accuarcy={x:'data/wine_test.cvs'})"
   ]
  },
  {
   "cell_type": "code",
   "execution_count": null,
   "metadata": {
    "collapsed": true,
    "deletable": true,
    "editable": true
   },
   "outputs": [],
   "source": []
  }
 ],
 "metadata": {
  "anaconda-cloud": {},
  "kernelspec": {
   "display_name": "Python 3",
   "language": "python",
   "name": "python3"
  },
  "language_info": {
   "codemirror_mode": {
    "name": "ipython",
    "version": 3
   },
   "file_extension": ".py",
   "mimetype": "text/x-python",
   "name": "python",
   "nbconvert_exporter": "python",
   "pygments_lexer": "ipython3",
   "version": "3.6.0"
  }
 },
 "nbformat": 4,
 "nbformat_minor": 1
}
